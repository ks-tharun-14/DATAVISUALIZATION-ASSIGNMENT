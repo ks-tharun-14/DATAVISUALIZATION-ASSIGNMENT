{
  "nbformat": 4,
  "nbformat_minor": 0,
  "metadata": {
    "colab": {
      "name": "ASSIGNMENT_DAY2.ipynb",
      "provenance": [],
      "collapsed_sections": []
    },
    "kernelspec": {
      "name": "python3",
      "display_name": "Python 3"
    },
    "language_info": {
      "name": "python"
    }
  },
  "cells": [
    {
      "cell_type": "markdown",
      "metadata": {
        "id": "s4gMFhmHiCZv"
      },
      "source": [
        "#Assignment_Question-1\n",
        "###Create a dataframe with 10rows on random number and 4 columns, (columns labelling as a,b,c,d)\n",
        "###df = pd.Dataframe(randn(10,4), columns = ['a','b','c','d'])\n",
        "###Create a barchart"
      ]
    },
    {
      "cell_type": "code",
      "metadata": {
        "id": "wvMQ-NkzDgPM"
      },
      "source": [
        "import matplotlib.pyplot as plt\n",
        "import numpy as np\n",
        "import pandas as pd\n",
        "%matplotlib inline\n",
        "import seaborn as sns\n",
        "from numpy.random import randn, randint, uniform, sample"
      ],
      "execution_count": 166,
      "outputs": []
    },
    {
      "cell_type": "code",
      "metadata": {
        "id": "KkTtO3jrE_3o"
      },
      "source": [
        "df = pd.DataFrame(randn(10,4)*100, columns = ['a','b','c','d'])"
      ],
      "execution_count": 167,
      "outputs": []
    },
    {
      "cell_type": "code",
      "metadata": {
        "colab": {
          "base_uri": "https://localhost:8080/",
          "height": 357
        },
        "id": "GXqo-jEPdbRp",
        "outputId": "9031f972-b966-4828-a0b8-96f2adc0fce0"
      },
      "source": [
        "df"
      ],
      "execution_count": 168,
      "outputs": [
        {
          "output_type": "execute_result",
          "data": {
            "text/html": [
              "<div>\n",
              "<style scoped>\n",
              "    .dataframe tbody tr th:only-of-type {\n",
              "        vertical-align: middle;\n",
              "    }\n",
              "\n",
              "    .dataframe tbody tr th {\n",
              "        vertical-align: top;\n",
              "    }\n",
              "\n",
              "    .dataframe thead th {\n",
              "        text-align: right;\n",
              "    }\n",
              "</style>\n",
              "<table border=\"1\" class=\"dataframe\">\n",
              "  <thead>\n",
              "    <tr style=\"text-align: right;\">\n",
              "      <th></th>\n",
              "      <th>a</th>\n",
              "      <th>b</th>\n",
              "      <th>c</th>\n",
              "      <th>d</th>\n",
              "    </tr>\n",
              "  </thead>\n",
              "  <tbody>\n",
              "    <tr>\n",
              "      <th>0</th>\n",
              "      <td>-64.695371</td>\n",
              "      <td>65.372180</td>\n",
              "      <td>-109.140463</td>\n",
              "      <td>-77.691738</td>\n",
              "    </tr>\n",
              "    <tr>\n",
              "      <th>1</th>\n",
              "      <td>213.648948</td>\n",
              "      <td>-54.733383</td>\n",
              "      <td>-145.087860</td>\n",
              "      <td>-87.453151</td>\n",
              "    </tr>\n",
              "    <tr>\n",
              "      <th>2</th>\n",
              "      <td>79.065614</td>\n",
              "      <td>-82.044786</td>\n",
              "      <td>-86.865221</td>\n",
              "      <td>-20.158789</td>\n",
              "    </tr>\n",
              "    <tr>\n",
              "      <th>3</th>\n",
              "      <td>36.242292</td>\n",
              "      <td>-188.336890</td>\n",
              "      <td>270.106752</td>\n",
              "      <td>-16.532760</td>\n",
              "    </tr>\n",
              "    <tr>\n",
              "      <th>4</th>\n",
              "      <td>32.330664</td>\n",
              "      <td>78.176650</td>\n",
              "      <td>-62.895782</td>\n",
              "      <td>31.097712</td>\n",
              "    </tr>\n",
              "    <tr>\n",
              "      <th>5</th>\n",
              "      <td>0.635701</td>\n",
              "      <td>79.653211</td>\n",
              "      <td>141.002793</td>\n",
              "      <td>209.816201</td>\n",
              "    </tr>\n",
              "    <tr>\n",
              "      <th>6</th>\n",
              "      <td>2.661432</td>\n",
              "      <td>69.035041</td>\n",
              "      <td>165.364297</td>\n",
              "      <td>-64.635766</td>\n",
              "    </tr>\n",
              "    <tr>\n",
              "      <th>7</th>\n",
              "      <td>115.259242</td>\n",
              "      <td>-5.777266</td>\n",
              "      <td>5.715085</td>\n",
              "      <td>-2.363923</td>\n",
              "    </tr>\n",
              "    <tr>\n",
              "      <th>8</th>\n",
              "      <td>-38.759065</td>\n",
              "      <td>-139.363969</td>\n",
              "      <td>99.697805</td>\n",
              "      <td>97.193243</td>\n",
              "    </tr>\n",
              "    <tr>\n",
              "      <th>9</th>\n",
              "      <td>-62.106095</td>\n",
              "      <td>-21.670403</td>\n",
              "      <td>59.003034</td>\n",
              "      <td>-44.803950</td>\n",
              "    </tr>\n",
              "  </tbody>\n",
              "</table>\n",
              "</div>"
            ],
            "text/plain": [
              "            a           b           c           d\n",
              "0  -64.695371   65.372180 -109.140463  -77.691738\n",
              "1  213.648948  -54.733383 -145.087860  -87.453151\n",
              "2   79.065614  -82.044786  -86.865221  -20.158789\n",
              "3   36.242292 -188.336890  270.106752  -16.532760\n",
              "4   32.330664   78.176650  -62.895782   31.097712\n",
              "5    0.635701   79.653211  141.002793  209.816201\n",
              "6    2.661432   69.035041  165.364297  -64.635766\n",
              "7  115.259242   -5.777266    5.715085   -2.363923\n",
              "8  -38.759065 -139.363969   99.697805   97.193243\n",
              "9  -62.106095  -21.670403   59.003034  -44.803950"
            ]
          },
          "metadata": {
            "tags": []
          },
          "execution_count": 168
        }
      ]
    },
    {
      "cell_type": "code",
      "metadata": {
        "colab": {
          "base_uri": "https://localhost:8080/",
          "height": 519
        },
        "id": "-9ivUX9rWZ_8",
        "outputId": "23c63efc-800a-47d8-f73e-92c9fb0558ff"
      },
      "source": [
        "df.plot(kind = 'bar', figsize=(15,8))\n",
        "plt.title('Bar graph', fontsize = 20)\n",
        "plt.xlabel('X-axis', fontsize = 15, color = 'g')\n",
        "plt.ylabel('Y-axis', fontsize = 15, color = 'g')\n",
        "plt.legend()\n",
        "plt.show()"
      ],
      "execution_count": 169,
      "outputs": [
        {
          "output_type": "display_data",
          "data": {
            "image/png": "[encoded data removed]",
            "text/plain": [
              "<Figure size 1080x576 with 1 Axes>"
            ]
          },
          "metadata": {
            "tags": [],
            "needs_background": "light"
          }
        }
      ]
    },
    {
      "cell_type": "code",
      "metadata": {
        "id": "p4Q4lZTmXOkj"
      },
      "source": [
        ""
      ],
      "execution_count": null,
      "outputs": []
    }
  ]
}